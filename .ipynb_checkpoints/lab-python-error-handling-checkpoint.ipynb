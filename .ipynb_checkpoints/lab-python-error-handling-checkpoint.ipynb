{
 "cells": [
  {
   "cell_type": "markdown",
   "id": "25d7736c-ba17-4aff-b6bb-66eba20fbf4e",
   "metadata": {},
   "source": [
    "# Lab | Error Handling"
   ]
  },
  {
   "cell_type": "markdown",
   "id": "bc99b386-7508-47a0-bcdb-d969deaf6c8b",
   "metadata": {},
   "source": [
    "## Exercise: Error Handling for Managing Customer Orders\n",
    "\n",
    "The implementation of your code for managing customer orders assumes that the user will always enter a valid input. \n",
    "\n",
    "For example, we could modify the `initialize_inventory` function to include error handling.\n",
    "   - If the user enters an invalid quantity (e.g., a negative value or a non-numeric value), display an error message and ask them to re-enter the quantity for that product.\n",
    "   - Use a try-except block to handle the error and continue prompting the user until a valid quantity is entered.\n",
    "\n",
    "```python\n",
    "# Step 1: Define the function for initializing the inventory with error handling\n",
    "def initialize_inventory(products):\n",
    "    inventory = {}\n",
    "    for product in products:\n",
    "        valid_quantity = False\n",
    "        while not valid_quantity:\n",
    "            try:\n",
    "                quantity = int(input(f\"Enter the quantity of {product}s available: \"))\n",
    "                if quantity < 0:\n",
    "                    raise ValueError(\"Invalid quantity! Please enter a non-negative value.\")\n",
    "                valid_quantity = True\n",
    "            except ValueError as error:\n",
    "                print(f\"Error: {error}\")\n",
    "        inventory[product] = quantity\n",
    "    return inventory\n",
    "\n",
    "# Or, in another way:\n",
    "\n",
    "def initialize_inventory(products):\n",
    "    inventory = {}\n",
    "    for product in products:\n",
    "        valid_input = False\n",
    "        while not valid_input:\n",
    "            try:\n",
    "                quantity = int(input(f\"Enter the quantity of {product}s available: \"))\n",
    "                if quantity >= 0:\n",
    "                    inventory[product] = quantity\n",
    "                    valid_input = True\n",
    "                else:\n",
    "                    print(\"Quantity cannot be negative. Please enter a valid quantity.\")\n",
    "            except ValueError:\n",
    "                print(\"Invalid input. Please enter a valid quantity.\")\n",
    "    return inventory\n",
    "```\n",
    "\n",
    "Let's enhance your code by implementing error handling to handle invalid inputs.\n",
    "\n",
    "Follow the steps below to complete the exercise:\n",
    "\n",
    "2. Modify the `calculate_total_price` function to include error handling.\n",
    "   - If the user enters an invalid price (e.g., a negative value or a non-numeric value), display an error message and ask them to re-enter the price for that product.\n",
    "   - Use a try-except block to handle the error and continue prompting the user until a valid price is entered.\n",
    "\n",
    "3. Modify the `get_customer_orders` function to include error handling.\n",
    "   - If the user enters an invalid number of orders (e.g., a negative value or a non-numeric value), display an error message and ask them to re-enter the number of orders.\n",
    "   - If the user enters an invalid product name (e.g., a product name that is not in the inventory), or that doesn't have stock available, display an error message and ask them to re-enter the product name. *Hint: you will need to pass inventory as a parameter*\n",
    "   - Use a try-except block to handle the error and continue prompting the user until a valid product name is entered.\n",
    "\n",
    "4. Test your code by running the program and deliberately entering invalid quantities and product names. Make sure the error handling mechanism works as expected.\n"
   ]
  },
  {
   "cell_type": "code",
   "execution_count": 5,
   "id": "07779360-a6c9-40a1-ac5f-5077422734e6",
   "metadata": {},
   "outputs": [],
   "source": [
    "def initialize_inventory(products):\n",
    "    inventory = {}\n",
    "    for product in products:\n",
    "        valid_quantity = False\n",
    "        while not valid_quantity:\n",
    "            try:\n",
    "                quantity = int(input(f\"Enter the quantity of {product}s available: \"))\n",
    "                if quantity < 0:\n",
    "                    raise ValueError(\"Invalid quantity! Please enter a non-negative value.\")\n",
    "                valid_quantity = True\n",
    "            except ValueError as error:\n",
    "                print(f\"Error: {error}\")\n",
    "        inventory[product] = quantity\n",
    "    return inventory"
   ]
  },
  {
   "cell_type": "code",
   "execution_count": 6,
   "id": "9d98cf02-495a-430d-bc14-891153511177",
   "metadata": {},
   "outputs": [],
   "source": [
    "def get_customer_orders(inventory):\n",
    "    while True:\n",
    "        try:\n",
    "            x = int(input(\"Enter the number of customer orders: \"))\n",
    "            break  # Exit loop if valid input\n",
    "        except ValueError as err:\n",
    "            print(\"Invalid input. Please enter a valid quantity.\")\n",
    "            \n",
    "    customer_orders= set()\n",
    "    \n",
    "    for i in range(x):\n",
    "        while True:\n",
    "            order= input(\"Enter the name of a product that a customer wants to order:\" ).lower()\n",
    "            if order in inventory.keys():\n",
    "                customer_orders.add(order)\n",
    "                break\n",
    "            else:\n",
    "                print(f\"{order} is not in the product list. Please enter a valid product\")\n",
    "                \n",
    "    return customer_orders"
   ]
  },
  {
   "cell_type": "code",
   "execution_count": 7,
   "id": "8e42a5c0-7c13-4fe2-ba77-8970abd32205",
   "metadata": {},
   "outputs": [],
   "source": [
    "def total_price_orders(customer_orders):\n",
    "    try:\n",
    "        total_price = sum(int(input(f\"Enter the price of {product}: \")) for product in customer_orders)\n",
    "    except ValueError:\n",
    "        print(\"Invalid input. Please enter a valid number for price.\", error)\n",
    "        return None \n",
    "    except Exception as error:\n",
    "        print(\"something is wrong\", error)\n",
    "        \n",
    "    print(f\"Total price: {total_price}\")\n",
    "    return total_price"
   ]
  },
  {
   "cell_type": "code",
   "execution_count": 11,
   "id": "79d0817f-b3e2-40c2-bc30-3275c13d3e06",
   "metadata": {},
   "outputs": [],
   "source": [
    "def print_updated_inventory(inventory):\n",
    "    print(\"\\nUpdated inventory:\")\n",
    "    \n",
    "    items_to_remove = [key for key, value in inventory.items() if value == 0] # Create a list of keys to remove, where the value is 0\n",
    "    \n",
    "    for item in items_to_remove:  # Remove the items with quantity 0 from the inventory\n",
    "        inventory.pop(item)\n",
    "    \n",
    "    for key, value in inventory.items():  # Print the updated inventory\n",
    "        print(f\"{key}: {value}\")\n"
   ]
  },
  {
   "cell_type": "code",
   "execution_count": 12,
   "id": "410c683b-9273-4d72-9b69-9e1e352f4e03",
   "metadata": {},
   "outputs": [
    {
     "name": "stdin",
     "output_type": "stream",
     "text": [
      "Enter the quantity of t-shirts available:  3\n",
      "Enter the quantity of mugs available:  1\n",
      "Enter the quantity of hats available:  3\n",
      "Enter the quantity of books available:  3\n",
      "Enter the quantity of keychains available:  4\n",
      "Enter the number of customer orders:  2\n",
      "Enter the name of a product that a customer wants to order: MUG\n",
      "Enter the name of a product that a customer wants to order: BOOK\n",
      "Enter the price of book:  3\n",
      "Enter the price of mug:  4\n"
     ]
    },
    {
     "name": "stdout",
     "output_type": "stream",
     "text": [
      "Total price: 7\n",
      "\n",
      "Updated inventory:\n",
      "t-shirt: 3\n",
      "mug: 1\n",
      "hat: 3\n",
      "book: 3\n",
      "keychain: 4\n"
     ]
    }
   ],
   "source": [
    "products=[\"t-shirt\", \"mug\", \"hat\", \"book\", \"keychain\"]\n",
    "inventory= initialize_inventory(products)\n",
    "customer_orders = get_customer_orders(inventory)\n",
    "Total_price=total_price_orders(customer_orders)\n",
    "Update_inventory=print_updated_inventory(inventory)"
   ]
  },
  {
   "cell_type": "code",
   "execution_count": null,
   "id": "7a383344-c4e7-40e7-98a9-bb164d845ea8",
   "metadata": {},
   "outputs": [],
   "source": []
  }
 ],
 "metadata": {
  "kernelspec": {
   "display_name": "Python 3 (ipykernel)",
   "language": "python",
   "name": "python3"
  },
  "language_info": {
   "codemirror_mode": {
    "name": "ipython",
    "version": 3
   },
   "file_extension": ".py",
   "mimetype": "text/x-python",
   "name": "python",
   "nbconvert_exporter": "python",
   "pygments_lexer": "ipython3",
   "version": "3.11.7"
  }
 },
 "nbformat": 4,
 "nbformat_minor": 5
}
